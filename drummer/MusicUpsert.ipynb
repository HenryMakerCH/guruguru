{
 "cells": [
  {
   "cell_type": "code",
   "execution_count": 1,
   "id": "28c8f6cd-349e-42b5-940f-b7744c19fc5b",
   "metadata": {},
   "outputs": [],
   "source": [
    "#install requirements\n",
    "import json"
   ]
  },
  {
   "cell_type": "code",
   "execution_count": 2,
   "id": "ac66ed4e-3745-4aee-8565-7be8a5802693",
   "metadata": {},
   "outputs": [
    {
     "name": "stdin",
     "output_type": "stream",
     "text": [
      "乐曲ID： 11545\n",
      "谱面难度（Basic=0,Re:Master=4）： 3\n",
      "游玩次数： 5\n",
      "完成度（不带小数点补完）： 1005106\n",
      "连击状态： 1\n",
      "同步状态： 0\n",
      "DX分数： 2017\n",
      "评级（D=0,SSS+=13）： 13\n"
     ]
    }
   ],
   "source": [
    "# 上传的乐曲成绩\n",
    "# 此成绩将覆盖原有成绩\n",
    "# UserId 自行获取\n",
    "userId = 12149239\n",
    "\n",
    "musicId = input(\"乐曲ID：\")\n",
    "level = input(\"谱面难度（Basic=0,Re:Master=4）：\")#Basic=0,Re:Master=4\n",
    "playCount = input(\"游玩次数：\")\n",
    "achievement = input(\"完成度（不带小数点补完）：\")\n",
    "comboStatus = input(\"连击状态：\")\n",
    "syncStatus = input(\"同步状态：\")\n",
    "deluxscoreMax = input(\"DX分数：\")\n",
    "scoreRank = input(\"评级（D=0,SSS+=13）：\")#D=0,SSS+=13\n",
    "extNum1 = 0\n",
    "\n",
    "music_data = ({\n",
    "    \"musicId\": musicId,\n",
    "    \"level\": level,\n",
    "    \"playCount\": playCount,\n",
    "    \"achievement\": achievement,\n",
    "    \"comboStatus\": comboStatus,\n",
    "    \"syncStatus\": syncStatus,\n",
    "    \"deluxscoreMax\": deluxscoreMax,\n",
    "    \"scoreRank\": scoreRank,\n",
    "    \"extNum1\": extNum1\n",
    "})\n",
    "\n",
    "with open('musicdata.py','w') as f:\n",
    "    f.write('userId = ')\n",
    "    f.write(str(userId))\n",
    "    f.write('\\n\\nmusic_data = (')\n",
    "    json.dump(music_data,f,indent = 2)\n",
    "    f.write(')')"
   ]
  },
  {
   "cell_type": "code",
   "execution_count": 3,
   "id": "79b78509-09b0-4556-982d-bb9c7271d0d1",
   "metadata": {},
   "outputs": [
    {
     "data": {
      "text/html": [
       "<script>Jupyter.notebook.kernel.restart()</script>"
      ],
      "text/plain": [
       "<IPython.core.display.HTML object>"
      ]
     },
     "execution_count": 3,
     "metadata": {},
     "output_type": "execute_result"
    }
   ],
   "source": [
    "#import os\n",
    "#os.exit(00)\n",
    "from IPython.core.display import HTML\n",
    "HTML(\"<script>Jupyter.notebook.kernel.restart()</script>\")"
   ]
  },
  {
   "cell_type": "code",
   "execution_count": 1,
   "id": "3ee5b167-0283-4719-9c11-f4429a20eb14",
   "metadata": {},
   "outputs": [
    {
     "name": "stdout",
     "output_type": "stream",
     "text": [
      "1738983246\n",
      "{'returnCode': 1, 'lastLoginDate': '2025-02-08 10:49:04', 'loginCount': 120, 'consecutiveLoginCount': 1, 'loginId': 7468876431854928691}\n",
      "{'returnCode': 1, 'apiName': 'UploadUserPlaylogApi'}\n",
      "{'returnCode': 1, 'apiName': 'com.sega.maimai.api.UpsertUserAllApi'}\n",
      "{\"returnCode\":1}\n"
     ]
    }
   ],
   "source": [
    "%run music.py"
   ]
  },
  {
   "cell_type": "code",
   "execution_count": null,
   "id": "cebd97c3-b214-402c-8d5e-d25b43605fd3",
   "metadata": {},
   "outputs": [],
   "source": [
    "%eun logout.py"
   ]
  }
 ],
 "metadata": {
  "kernelspec": {
   "display_name": "Python 3 (ipykernel)",
   "language": "python",
   "name": "python3"
  },
  "language_info": {
   "codemirror_mode": {
    "name": "ipython",
    "version": 3
   },
   "file_extension": ".py",
   "mimetype": "text/x-python",
   "name": "python",
   "nbconvert_exporter": "python",
   "pygments_lexer": "ipython3",
   "version": "3.13.1"
  }
 },
 "nbformat": 4,
 "nbformat_minor": 5
}
